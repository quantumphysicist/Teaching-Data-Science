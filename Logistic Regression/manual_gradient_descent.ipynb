{
 "cells": [
  {
   "cell_type": "markdown",
   "metadata": {},
   "source": [
    "Just a quick notebook to show gradient descent in action"
   ]
  },
  {
   "cell_type": "code",
   "execution_count": 29,
   "metadata": {},
   "outputs": [],
   "source": [
    "# Import libraries\n",
    "import pandas as pd\n",
    "import numpy as np\n",
    "import matplotlib.pyplot as plt\n",
    "import seaborn as sns\n",
    "\n",
    "from sklearn.model_selection import train_test_split\n",
    "from sklearn.linear_model import LogisticRegression "
   ]
  },
  {
   "cell_type": "code",
   "execution_count": 30,
   "metadata": {},
   "outputs": [],
   "source": [
    "data_file = \"tumours.pkl\"\n",
    "tumours = pd.read_pickle(data_file)"
   ]
  },
  {
   "cell_type": "code",
   "execution_count": 31,
   "metadata": {},
   "outputs": [
    {
     "data": {
      "text/html": [
       "<div>\n",
       "<style scoped>\n",
       "    .dataframe tbody tr th:only-of-type {\n",
       "        vertical-align: middle;\n",
       "    }\n",
       "\n",
       "    .dataframe tbody tr th {\n",
       "        vertical-align: top;\n",
       "    }\n",
       "\n",
       "    .dataframe thead th {\n",
       "        text-align: right;\n",
       "    }\n",
       "</style>\n",
       "<table border=\"1\" class=\"dataframe\">\n",
       "  <thead>\n",
       "    <tr style=\"text-align: right;\">\n",
       "      <th></th>\n",
       "      <th>Tumour size (mm)</th>\n",
       "      <th>Tumour is malignant</th>\n",
       "    </tr>\n",
       "  </thead>\n",
       "  <tbody>\n",
       "    <tr>\n",
       "      <th>0</th>\n",
       "      <td>58.7</td>\n",
       "      <td>False</td>\n",
       "    </tr>\n",
       "    <tr>\n",
       "      <th>1</th>\n",
       "      <td>41.9</td>\n",
       "      <td>False</td>\n",
       "    </tr>\n",
       "    <tr>\n",
       "      <th>2</th>\n",
       "      <td>86.4</td>\n",
       "      <td>True</td>\n",
       "    </tr>\n",
       "    <tr>\n",
       "      <th>3</th>\n",
       "      <td>99.7</td>\n",
       "      <td>True</td>\n",
       "    </tr>\n",
       "    <tr>\n",
       "      <th>4</th>\n",
       "      <td>87.9</td>\n",
       "      <td>False</td>\n",
       "    </tr>\n",
       "    <tr>\n",
       "      <th>...</th>\n",
       "      <td>...</td>\n",
       "      <td>...</td>\n",
       "    </tr>\n",
       "    <tr>\n",
       "      <th>99995</th>\n",
       "      <td>35.7</td>\n",
       "      <td>False</td>\n",
       "    </tr>\n",
       "    <tr>\n",
       "      <th>99996</th>\n",
       "      <td>63.1</td>\n",
       "      <td>False</td>\n",
       "    </tr>\n",
       "    <tr>\n",
       "      <th>99997</th>\n",
       "      <td>60.4</td>\n",
       "      <td>False</td>\n",
       "    </tr>\n",
       "    <tr>\n",
       "      <th>99998</th>\n",
       "      <td>96.9</td>\n",
       "      <td>True</td>\n",
       "    </tr>\n",
       "    <tr>\n",
       "      <th>99999</th>\n",
       "      <td>95.8</td>\n",
       "      <td>True</td>\n",
       "    </tr>\n",
       "  </tbody>\n",
       "</table>\n",
       "<p>100000 rows × 2 columns</p>\n",
       "</div>"
      ],
      "text/plain": [
       "       Tumour size (mm)  Tumour is malignant\n",
       "0                  58.7                False\n",
       "1                  41.9                False\n",
       "2                  86.4                 True\n",
       "3                  99.7                 True\n",
       "4                  87.9                False\n",
       "...                 ...                  ...\n",
       "99995              35.7                False\n",
       "99996              63.1                False\n",
       "99997              60.4                False\n",
       "99998              96.9                 True\n",
       "99999              95.8                 True\n",
       "\n",
       "[100000 rows x 2 columns]"
      ]
     },
     "execution_count": 31,
     "metadata": {},
     "output_type": "execute_result"
    }
   ],
   "source": [
    "tumours"
   ]
  },
  {
   "cell_type": "code",
   "execution_count": 32,
   "metadata": {},
   "outputs": [
    {
     "name": "stdout",
     "output_type": "stream",
     "text": [
      "Accuracy: 0.74435\n"
     ]
    }
   ],
   "source": [
    "# Perform Logistic Regression\n",
    "\n",
    "X = tumours['Tumour size (mm)'].values\n",
    "X = (X - X.mean())/X.std()  # Normalise the data\n",
    "y = tumours['Tumour is malignant'].values\n",
    "\n",
    "# Use sklearn's train_test_split to split the data into training and test sets\n",
    "X_train, X_test, y_train, y_test = train_test_split(X.reshape(-1, 1), y, test_size=0.2)\n",
    "\n",
    "# Use sklearn's LogisticRegression to fit a model to the training data\n",
    "clf = LogisticRegression(random_state=0)\n",
    "clf.fit(X_train, y_train)\n",
    "\n",
    "# Use the model to make predictions on the test data\n",
    "y_preds = clf.predict(X_test)\n",
    "\n",
    "# Use sklearn's confusion_matrix to evaluate the model's predictions\n",
    "from sklearn.metrics import confusion_matrix\n",
    "\n",
    "the_confusion_matrix = confusion_matrix(y_test, y_preds)\n",
    "#print('Confusion matrix:')\n",
    "#print(the_confusion_matrix)\n",
    "\n",
    "# Print the model's accuracy\n",
    "print(f'Accuracy: {clf.score(X_test, y_test)}')"
   ]
  },
  {
   "cell_type": "code",
   "execution_count": 33,
   "metadata": {},
   "outputs": [
    {
     "name": "stdout",
     "output_type": "stream",
     "text": [
      "[[0.99138693]]\n"
     ]
    }
   ],
   "source": [
    "print(clf.coef_)"
   ]
  },
  {
   "cell_type": "code",
   "execution_count": 34,
   "metadata": {},
   "outputs": [],
   "source": [
    "import numpy as np\n",
    "\n",
    "# Sigmoid function to map input 'u' to a probability between 0 and 1\n",
    "def sigma(u):\n",
    "    return 1 / (1 + np.exp(-u))\n",
    "\n",
    "# Function to calculate the gradient for logistic regression\n",
    "def gradient(w, x, y):\n",
    "    # Calculate predicted probabilities using the sigmoid function\n",
    "    y_prob = sigma(np.dot(x, w))\n",
    "    \n",
    "    # Calculate the gradient\n",
    "    # 1. (y - y_prob) is the error between actual and predicted values\n",
    "    # 2. y_prob * (1 - y_prob) is the derivative of the sigmoid function\n",
    "    # 3. Multiply the error by the derivative of the sigmoid and the input x\n",
    "    # 4. Reshape the result to ensure correct dimensions\n",
    "    # 5. Take the mean across all examples\n",
    "    gradient = (-x * (y_prob * (1 - y_prob) * (y - y_prob)).reshape(-1, 1)).mean(axis=0)\n",
    "    \n",
    "    return gradient"
   ]
  },
  {
   "cell_type": "markdown",
   "metadata": {},
   "source": [
    "### Explanation:\n",
    " **`gradient` function**:\n",
    "   - **Inputs**:\n",
    "     - `w`: weight vector (model parameters)\n",
    "     - `x`: feature matrix (input data)\n",
    "     - `y`: actual labels (target values)\n",
    "   - **Steps**:\n",
    "     1. Calculate `y_prob`: This is the predicted probability of the positive class for each example.\n",
    "     2. Calculate the gradient:\n",
    "        - `(y - y_prob)`: This is the error between the actual and predicted values.\n",
    "        - `y_prob * (1 - y_prob)`: This is the derivative of the sigmoid function, representing how much change in `u` affects the probability.\n",
    "        - `(-x * (y_prob * (1 - y_prob) * (y - y_prob)).reshape(-1, 1))`: This combines the inputs, errors, and derivatives.\n",
    "        - `.mean(axis=0)`: Computes the mean gradient across all examples to update the weights.\n",
    "   \n",
    "This function helps update the weights in logistic regression using gradient descent."
   ]
  },
  {
   "cell_type": "code",
   "execution_count": 35,
   "metadata": {},
   "outputs": [],
   "source": [
    "# Function to calculate the loss for logistic regression\n",
    "def loss(w, x, y):\n",
    "    # Calculate predicted probabilities using the sigmoid function\n",
    "    y_prob = sigma(np.dot(x, w))\n",
    "    \n",
    "    # Calculate the loss using the binary cross-entropy formula\n",
    "    # 1. y * np.log(y_prob): Log loss for true class\n",
    "    # 2. (1 - y) * np.log(1 - y_prob): Log loss for false class\n",
    "    # 3. Combine both terms and take the negative mean\n",
    "    loss_value = -(y * np.log(y_prob) + (1 - y) * np.log(1 - y_prob)).mean()\n",
    "    \n",
    "    return loss_value"
   ]
  },
  {
   "cell_type": "markdown",
   "metadata": {},
   "source": [
    "### Explanation:\n",
    "\n",
    "2. **`loss` function**:\n",
    "   - **Inputs**:\n",
    "     - `w`: weight vector (model parameters)\n",
    "     - `x`: feature matrix (input data)\n",
    "     - `y`: actual labels (target values)\n",
    "   - **Steps**:\n",
    "     1. Calculate `y_prob`: Predicted probabilities for each example using the sigmoid function.\n",
    "     2. Calculate the binary cross-entropy loss:\n",
    "        - `y * np.log(y_prob)`: Logarithmic loss for cases where the actual label is 1.\n",
    "        - `(1 - y) * np.log(1 - y_prob)`: Logarithmic loss for cases where the actual label is 0.\n",
    "        - `-(...)`: Combine both terms, summing the losses for each example.\n",
    "        - `.mean()`: Take the mean of the loss values to get the average loss across all examples.\n",
    "\n",
    "This function measures how well the model's predictions align with the actual labels, with lower values indicating better performance.\n"
   ]
  },
  {
   "cell_type": "code",
   "execution_count": 36,
   "metadata": {},
   "outputs": [],
   "source": [
    "np.random.seed(0)\n",
    "\n",
    "def fit(X, y, learning_rate=1, epochs=200): \n",
    "    #number_of_weights = X.shape[1]  # Number of weights is equal to the number of features\n",
    "    #w = np.random.randn(number_of_weights)  # Initialize weights with random values\n",
    "    w = np.zeros(X.shape[1])\n",
    "    loss_t = []  # List to store the loss at each epoch\n",
    "\n",
    "    # Gradient descent\n",
    "    for t in range(epochs):\n",
    "        # Calculate the gradient\n",
    "        grad = gradient(w, X, y)\n",
    "        \n",
    "        # Update weights\n",
    "        w = w - (learning_rate * grad)\n",
    "        \n",
    "        # Calculate and store the loss\n",
    "        current_loss = loss(w, X, y)\n",
    "        loss_t.append(current_loss)\n",
    "        \n",
    "    return w, loss_t"
   ]
  },
  {
   "cell_type": "code",
   "execution_count": 37,
   "metadata": {},
   "outputs": [
    {
     "data": {
      "text/html": [
       "<div>\n",
       "<style scoped>\n",
       "    .dataframe tbody tr th:only-of-type {\n",
       "        vertical-align: middle;\n",
       "    }\n",
       "\n",
       "    .dataframe tbody tr th {\n",
       "        vertical-align: top;\n",
       "    }\n",
       "\n",
       "    .dataframe thead th {\n",
       "        text-align: right;\n",
       "    }\n",
       "</style>\n",
       "<table border=\"1\" class=\"dataframe\">\n",
       "  <thead>\n",
       "    <tr style=\"text-align: right;\">\n",
       "      <th></th>\n",
       "      <th>0</th>\n",
       "    </tr>\n",
       "  </thead>\n",
       "  <tbody>\n",
       "    <tr>\n",
       "      <th>0</th>\n",
       "      <td>1.0</td>\n",
       "    </tr>\n",
       "    <tr>\n",
       "      <th>1</th>\n",
       "      <td>1.0</td>\n",
       "    </tr>\n",
       "    <tr>\n",
       "      <th>2</th>\n",
       "      <td>1.0</td>\n",
       "    </tr>\n",
       "    <tr>\n",
       "      <th>3</th>\n",
       "      <td>1.0</td>\n",
       "    </tr>\n",
       "    <tr>\n",
       "      <th>4</th>\n",
       "      <td>1.0</td>\n",
       "    </tr>\n",
       "    <tr>\n",
       "      <th>...</th>\n",
       "      <td>...</td>\n",
       "    </tr>\n",
       "    <tr>\n",
       "      <th>99995</th>\n",
       "      <td>1.0</td>\n",
       "    </tr>\n",
       "    <tr>\n",
       "      <th>99996</th>\n",
       "      <td>1.0</td>\n",
       "    </tr>\n",
       "    <tr>\n",
       "      <th>99997</th>\n",
       "      <td>1.0</td>\n",
       "    </tr>\n",
       "    <tr>\n",
       "      <th>99998</th>\n",
       "      <td>1.0</td>\n",
       "    </tr>\n",
       "    <tr>\n",
       "      <th>99999</th>\n",
       "      <td>1.0</td>\n",
       "    </tr>\n",
       "  </tbody>\n",
       "</table>\n",
       "<p>100000 rows × 1 columns</p>\n",
       "</div>"
      ],
      "text/plain": [
       "         0\n",
       "0      1.0\n",
       "1      1.0\n",
       "2      1.0\n",
       "3      1.0\n",
       "4      1.0\n",
       "...    ...\n",
       "99995  1.0\n",
       "99996  1.0\n",
       "99997  1.0\n",
       "99998  1.0\n",
       "99999  1.0\n",
       "\n",
       "[100000 rows x 1 columns]"
      ]
     },
     "execution_count": 37,
     "metadata": {},
     "output_type": "execute_result"
    }
   ],
   "source": [
    "rows = X.shape[0]  # Number of rows in the dataset\n",
    "constant_column = np.ones((rows, 1))\n",
    "pd.DataFrame(constant_column) # Just visualising the constant column"
   ]
  },
  {
   "cell_type": "code",
   "execution_count": 38,
   "metadata": {},
   "outputs": [],
   "source": [
    "X = tumours['Tumour size (mm)']\n",
    "X = (X - X.mean())/X.std()  # Normalise the data\n",
    "X = pd.DataFrame(X)"
   ]
  },
  {
   "cell_type": "code",
   "execution_count": 39,
   "metadata": {},
   "outputs": [
    {
     "data": {
      "text/html": [
       "<div>\n",
       "<style scoped>\n",
       "    .dataframe tbody tr th:only-of-type {\n",
       "        vertical-align: middle;\n",
       "    }\n",
       "\n",
       "    .dataframe tbody tr th {\n",
       "        vertical-align: top;\n",
       "    }\n",
       "\n",
       "    .dataframe thead th {\n",
       "        text-align: right;\n",
       "    }\n",
       "</style>\n",
       "<table border=\"1\" class=\"dataframe\">\n",
       "  <thead>\n",
       "    <tr style=\"text-align: right;\">\n",
       "      <th></th>\n",
       "      <th>0</th>\n",
       "      <th>1</th>\n",
       "    </tr>\n",
       "  </thead>\n",
       "  <tbody>\n",
       "    <tr>\n",
       "      <th>0</th>\n",
       "      <td>0.300023</td>\n",
       "      <td>1.0</td>\n",
       "    </tr>\n",
       "    <tr>\n",
       "      <th>1</th>\n",
       "      <td>-0.282463</td>\n",
       "      <td>1.0</td>\n",
       "    </tr>\n",
       "    <tr>\n",
       "      <th>2</th>\n",
       "      <td>1.260431</td>\n",
       "      <td>1.0</td>\n",
       "    </tr>\n",
       "    <tr>\n",
       "      <th>3</th>\n",
       "      <td>1.721566</td>\n",
       "      <td>1.0</td>\n",
       "    </tr>\n",
       "    <tr>\n",
       "      <th>4</th>\n",
       "      <td>1.312439</td>\n",
       "      <td>1.0</td>\n",
       "    </tr>\n",
       "    <tr>\n",
       "      <th>...</th>\n",
       "      <td>...</td>\n",
       "      <td>...</td>\n",
       "    </tr>\n",
       "    <tr>\n",
       "      <th>99995</th>\n",
       "      <td>-0.497429</td>\n",
       "      <td>1.0</td>\n",
       "    </tr>\n",
       "    <tr>\n",
       "      <th>99996</th>\n",
       "      <td>0.452578</td>\n",
       "      <td>1.0</td>\n",
       "    </tr>\n",
       "    <tr>\n",
       "      <th>99997</th>\n",
       "      <td>0.358965</td>\n",
       "      <td>1.0</td>\n",
       "    </tr>\n",
       "    <tr>\n",
       "      <th>99998</th>\n",
       "      <td>1.624485</td>\n",
       "      <td>1.0</td>\n",
       "    </tr>\n",
       "    <tr>\n",
       "      <th>99999</th>\n",
       "      <td>1.586346</td>\n",
       "      <td>1.0</td>\n",
       "    </tr>\n",
       "  </tbody>\n",
       "</table>\n",
       "<p>100000 rows × 2 columns</p>\n",
       "</div>"
      ],
      "text/plain": [
       "              0    1\n",
       "0      0.300023  1.0\n",
       "1     -0.282463  1.0\n",
       "2      1.260431  1.0\n",
       "3      1.721566  1.0\n",
       "4      1.312439  1.0\n",
       "...         ...  ...\n",
       "99995 -0.497429  1.0\n",
       "99996  0.452578  1.0\n",
       "99997  0.358965  1.0\n",
       "99998  1.624485  1.0\n",
       "99999  1.586346  1.0\n",
       "\n",
       "[100000 rows x 2 columns]"
      ]
     },
     "execution_count": 39,
     "metadata": {},
     "output_type": "execute_result"
    }
   ],
   "source": [
    "X2 = np.hstack( [X.values, constant_column] )\n",
    "# This is the equivalent of \n",
    "# pd.concat([X_norm, pd.Series(1, index=X_norm.index)], axis=1).to_numpy() \n",
    "pd.DataFrame(X2)  # Just visualising the new X matrix"
   ]
  },
  {
   "cell_type": "code",
   "execution_count": 40,
   "metadata": {},
   "outputs": [
    {
     "name": "stdout",
     "output_type": "stream",
     "text": [
      "[ 1.14177837 -0.81349356]\n"
     ]
    },
    {
     "data": {
      "text/plain": [
       "Text(0, 0.5, 'Loss')"
      ]
     },
     "execution_count": 40,
     "metadata": {},
     "output_type": "execute_result"
    },
    {
     "data": {
      "image/png": "[encoded data removed]",
      "text/plain": [
       "<Figure size 640x480 with 1 Axes>"
      ]
     },
     "metadata": {},
     "output_type": "display_data"
    }
   ],
   "source": [
    "w, loss_t = fit(X2, y)\n",
    "print(w)\n",
    "plt.plot(loss_t)\n",
    "plt.xlabel('Epoch')\n",
    "plt.ylabel('Loss')"
   ]
  },
  {
   "cell_type": "code",
   "execution_count": 41,
   "metadata": {},
   "outputs": [
    {
     "data": {
      "text/plain": [
       "array([[0.99138693]])"
      ]
     },
     "execution_count": 41,
     "metadata": {},
     "output_type": "execute_result"
    }
   ],
   "source": [
    "clf.coef_"
   ]
  },
  {
   "cell_type": "code",
   "execution_count": 42,
   "metadata": {},
   "outputs": [
    {
     "data": {
      "text/plain": [
       "array([1.14177837])"
      ]
     },
     "execution_count": 42,
     "metadata": {},
     "output_type": "execute_result"
    }
   ],
   "source": [
    "w[:-1]"
   ]
  },
  {
   "cell_type": "code",
   "execution_count": null,
   "metadata": {},
   "outputs": [],
   "source": []
  }
 ],
 "metadata": {
  "kernelspec": {
   "display_name": "data",
   "language": "python",
   "name": "python3"
  },
  "language_info": {
   "codemirror_mode": {
    "name": "ipython",
    "version": 3
   },
   "file_extension": ".py",
   "mimetype": "text/x-python",
   "name": "python",
   "nbconvert_exporter": "python",
   "pygments_lexer": "ipython3",
   "version": "3.11.7"
  }
 },
 "nbformat": 4,
 "nbformat_minor": 2
}
