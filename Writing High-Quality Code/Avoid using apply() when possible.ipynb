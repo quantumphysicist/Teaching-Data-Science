{
 "cells": [
  {
   "cell_type": "code",
   "execution_count": 19,
   "id": "33ce9b8a",
   "metadata": {},
   "outputs": [],
   "source": [
    "import pandas as pd\n",
    "import numpy as np\n",
    "np.random.seed(0)"
   ]
  },
  {
   "attachments": {},
   "cell_type": "markdown",
   "id": "26486ee6",
   "metadata": {},
   "source": [
    "Avoid using apply() when possible because it is slow. Use vectorized functions instead.\n",
    "\n",
    "Let us look at how much of a speedup we can get."
   ]
  },
  {
   "cell_type": "code",
   "execution_count": 20,
   "id": "8c83d0c2",
   "metadata": {},
   "outputs": [],
   "source": [
    "# Create a random array of numbers between 1 and 5  \n",
    "trip_data = pd.DataFrame(np.random.randint(1, 5, size=(100_000_000, 1)), columns=['Rating'])"
   ]
  },
  {
   "cell_type": "code",
   "execution_count": 21,
   "id": "3ef51192",
   "metadata": {},
   "outputs": [
    {
     "name": "stdout",
     "output_type": "stream",
     "text": [
      "CPU times: total: 8.27 s\n",
      "Wall time: 14.8 s\n"
     ]
    }
   ],
   "source": [
    "%time trip_data['target'] = trip_data.Rating.apply(lambda x: 1 if x in [4, 5] else 0)  # create target"
   ]
  },
  {
   "cell_type": "code",
   "execution_count": 22,
   "id": "943251a4",
   "metadata": {},
   "outputs": [
    {
     "name": "stdout",
     "output_type": "stream",
     "text": [
      "CPU times: total: 141 ms\n",
      "Wall time: 256 ms\n"
     ]
    }
   ],
   "source": [
    "%time trip_data['target'] = trip_data['Rating'].isin([4, 5]).astype(int)  "
   ]
  },
  {
   "attachments": {},
   "cell_type": "markdown",
   "id": "1deba14e",
   "metadata": {},
   "source": []
  },
  {
   "attachments": {},
   "cell_type": "markdown",
   "id": "8096f536",
   "metadata": {},
   "source": [
    "You can also use %timeit to get the average time of multiple runs as well as store the results in a variable. "
   ]
  },
  {
   "cell_type": "code",
   "execution_count": 23,
   "id": "19306ece",
   "metadata": {},
   "outputs": [],
   "source": [
    "# Create a random array of numbers between 1 and 5  \n",
    "trip_data = pd.DataFrame(np.random.randint(1, 5, size=(10_000_000, 1)), columns=['Rating'])"
   ]
  },
  {
   "cell_type": "code",
   "execution_count": 24,
   "id": "a9298e0c",
   "metadata": {},
   "outputs": [
    {
     "name": "stdout",
     "output_type": "stream",
     "text": [
      "1.48 s ± 0 ns per loop (mean ± std. dev. of 1 run, 1 loop each)\n"
     ]
    }
   ],
   "source": [
    "apply_timeTaken = %timeit -o -r 1 trip_data['target'] = trip_data.Rating.apply(lambda x: 1 if x in [4, 5] else 0)  # create target"
   ]
  },
  {
   "cell_type": "code",
   "execution_count": 25,
   "id": "85440549",
   "metadata": {},
   "outputs": [
    {
     "name": "stdout",
     "output_type": "stream",
     "text": [
      "24.4 ms ± 0 ns per loop (mean ± std. dev. of 1 run, 10 loops each)\n"
     ]
    }
   ],
   "source": [
    "isin_timeTaken = %timeit -o -r 1 trip_data['target'] = trip_data['Rating'].isin([4, 5]).astype(int)"
   ]
  },
  {
   "cell_type": "code",
   "execution_count": 26,
   "id": "49f8b829",
   "metadata": {},
   "outputs": [
    {
     "name": "stdout",
     "output_type": "stream",
     "text": [
      "This is 60.85 times faster.\n"
     ]
    }
   ],
   "source": [
    "print (f\"This is {apply_timeTaken.average/isin_timeTaken.average:.2f} times faster.\")"
   ]
  },
  {
   "cell_type": "code",
   "execution_count": null,
   "id": "3d6a7cc7",
   "metadata": {},
   "outputs": [],
   "source": []
  }
 ],
 "metadata": {
  "kernelspec": {
   "display_name": "Python 3 (ipykernel)",
   "language": "python",
   "name": "python3"
  },
  "language_info": {
   "codemirror_mode": {
    "name": "ipython",
    "version": 3
   },
   "file_extension": ".py",
   "mimetype": "text/x-python",
   "name": "python",
   "nbconvert_exporter": "python",
   "pygments_lexer": "ipython3",
   "version": "3.10.10"
  }
 },
 "nbformat": 4,
 "nbformat_minor": 5
}
