{
 "cells": [
  {
   "cell_type": "code",
   "execution_count": null,
   "id": "2420abbb",
   "metadata": {},
   "outputs": [],
   "source": [
    "# Author Dr Renju Mathew\n",
    "# v1.2 2023-05-04"
   ]
  },
  {
   "attachments": {},
   "cell_type": "markdown",
   "id": "fa754914",
   "metadata": {},
   "source": [
    "# Checking current weather data using the OpenWeatherMap API"
   ]
  },
  {
   "cell_type": "code",
   "execution_count": 1,
   "id": "63d1b559-c172-436e-baf6-453903113096",
   "metadata": {},
   "outputs": [],
   "source": [
    "import requests"
   ]
  },
  {
   "attachments": {},
   "cell_type": "markdown",
   "id": "ba10afd9-eddc-4a66-a4d1-50494aefa29d",
   "metadata": {},
   "source": [
    "Let's first check the documentation at:  \n",
    "[https://openweathermap.org/current](https://openweathermap.org/current)\n",
    "\n",
    "We learn that the \"API Call\" needs to be in the following form:  \n",
    "`https://api.openweathermap.org/data/2.5/weather?lat={lat}&lon={lon}&appid={API key}`"
   ]
  },
  {
   "attachments": {},
   "cell_type": "markdown",
   "id": "c798a794-cbf5-4218-a470-84605054cd8f",
   "metadata": {},
   "source": [
    "**But how do we determine the latitude and longitude of a city?**\n",
    "\n",
    "The same documentation tells to use the [Geocoding API](https://openweathermap.org/api/geocoding-api)\n",
    "\n",
    "We learn that the API Call for the Geocoding API needs to be in the following form:  \n",
    "`http://api.openweathermap.org/geo/1.0/direct?q={city name},{state code},{country code}&limit={limit}&appid={API key}`\n",
    "\n",
    "Note that `API key` needs to be changed to `API_key` in the URL."
   ]
  },
  {
   "cell_type": "code",
   "execution_count": 2,
   "id": "51b27582-00af-4445-82f4-1484e0ce4aa0",
   "metadata": {},
   "outputs": [],
   "source": [
    "# Get API key from file named \"API_key.txt\"\n",
    "with open('API_key.txt', 'r') as f:\n",
    "    API_key = f.read()\n",
    "\n",
    "# Alternative enter API key here:\n",
    "# API_key = \"\""
   ]
  },
  {
   "attachments": {},
   "cell_type": "markdown",
   "id": "a879ac2d",
   "metadata": {},
   "source": [
    "### Check London's Current Weather"
   ]
  },
  {
   "cell_type": "code",
   "execution_count": 3,
   "id": "038b9812-5c04-44ba-84f0-cc59c3e89017",
   "metadata": {},
   "outputs": [],
   "source": [
    "limit = 1  # Number of results to return\n",
    "city_name = 'London'\n",
    "url = f\"http://api.openweathermap.org/geo/1.0/direct?q={city_name}&limit={limit}&appid={API_key}\"  \n",
    "# We can get away with not including the state code or country code"
   ]
  },
  {
   "cell_type": "code",
   "execution_count": 4,
   "id": "1046c2a7",
   "metadata": {},
   "outputs": [
    {
     "name": "stdout",
     "output_type": "stream",
     "text": [
      "http://api.openweathermap.org/geo/1.0/direct?q=London&limit=1&appid=7cd4069785aa632a94dd1e2d9f013f8d\n"
     ]
    }
   ],
   "source": [
    "print(url)"
   ]
  },
  {
   "cell_type": "code",
   "execution_count": 5,
   "id": "46a918e5-8245-439b-a592-fb44ca160578",
   "metadata": {},
   "outputs": [
    {
     "data": {
      "text/plain": [
       "[{'name': 'London',\n",
       "  'local_names': {'fo': 'London',\n",
       "   'nn': 'London',\n",
       "   'uk': 'Лондон',\n",
       "   'cv': 'Лондон',\n",
       "   'hr': 'London',\n",
       "   'gl': 'Londres',\n",
       "   'sc': 'Londra',\n",
       "   'tr': 'Londra',\n",
       "   'kv': 'Лондон',\n",
       "   'eu': 'Londres',\n",
       "   'gv': 'Lunnin',\n",
       "   'fy': 'Londen',\n",
       "   'ml': 'ലണ്ടൻ',\n",
       "   'io': 'London',\n",
       "   'mr': 'लंडन',\n",
       "   'da': 'London',\n",
       "   'ro': 'Londra',\n",
       "   'ur': 'علاقہ لندن',\n",
       "   'sv': 'London',\n",
       "   'sq': 'Londra',\n",
       "   'eo': 'Londono',\n",
       "   'bo': 'ལོན་ཊོན།',\n",
       "   'ee': 'London',\n",
       "   'is': 'London',\n",
       "   'sa': 'लन्डन्',\n",
       "   'tw': 'London',\n",
       "   'th': 'ลอนดอน',\n",
       "   'ia': 'London',\n",
       "   'bn': 'লন্ডন',\n",
       "   'pl': 'Londyn',\n",
       "   'pa': 'ਲੰਡਨ',\n",
       "   'vi': 'Luân Đôn',\n",
       "   'zh': '伦敦',\n",
       "   'tg': 'Лондон',\n",
       "   'zu': 'ILondon',\n",
       "   'oc': 'Londres',\n",
       "   'sl': 'London',\n",
       "   'mt': 'Londra',\n",
       "   'ku': 'London',\n",
       "   'bs': 'London',\n",
       "   'sh': 'London',\n",
       "   'ps': 'لندن',\n",
       "   'be': 'Лондан',\n",
       "   'te': 'లండన్',\n",
       "   'an': 'Londres',\n",
       "   'lo': 'ລອນດອນ',\n",
       "   'av': 'Лондон',\n",
       "   'se': 'London',\n",
       "   'ga': 'Londain',\n",
       "   'ta': 'இலண்டன்',\n",
       "   'feature_name': 'London',\n",
       "   'fr': 'Londres',\n",
       "   'ar': 'لندن',\n",
       "   'nl': 'Londen',\n",
       "   'kn': 'ಲಂಡನ್',\n",
       "   'ca': 'Londres',\n",
       "   'om': 'Landan',\n",
       "   'wa': 'Londe',\n",
       "   'kw': 'Loundres',\n",
       "   'yi': 'לאנדאן',\n",
       "   'su': 'London',\n",
       "   'si': 'ලන්ඩන්',\n",
       "   'ce': 'Лондон',\n",
       "   'nv': 'Tooh Dineʼé Bikin Haalʼá',\n",
       "   'ja': 'ロンドン',\n",
       "   'tk': 'London',\n",
       "   'lv': 'Londona',\n",
       "   'lt': 'Londonas',\n",
       "   'sk': 'Londýn',\n",
       "   'es': 'Londres',\n",
       "   'hy': 'Լոնդոն',\n",
       "   'tl': 'Londres',\n",
       "   'sm': 'Lonetona',\n",
       "   'ig': 'London',\n",
       "   'tt': 'Лондон',\n",
       "   'lb': 'London',\n",
       "   'ko': '런던',\n",
       "   'ug': 'لوندۇن',\n",
       "   'ms': 'London',\n",
       "   'hi': 'लंदन',\n",
       "   'ay': 'London',\n",
       "   'ka': 'ლონდონი',\n",
       "   'hu': 'London',\n",
       "   'ny': 'London',\n",
       "   'st': 'London',\n",
       "   'ie': 'London',\n",
       "   'ascii': 'London',\n",
       "   'ky': 'Лондон',\n",
       "   'az': 'London',\n",
       "   'mk': 'Лондон',\n",
       "   'ha': 'Landan',\n",
       "   'gd': 'Lunnainn',\n",
       "   'ru': 'Лондон',\n",
       "   'sd': 'لنڊن',\n",
       "   'so': 'London',\n",
       "   'en': 'London',\n",
       "   'fj': 'Lodoni',\n",
       "   'li': 'Londe',\n",
       "   'et': 'London',\n",
       "   'cs': 'Londýn',\n",
       "   'my': 'လန်ဒန်မြို့',\n",
       "   'br': 'Londrez',\n",
       "   'to': 'Lonitoni',\n",
       "   'os': 'Лондон',\n",
       "   'bh': 'लंदन',\n",
       "   'ba': 'Лондон',\n",
       "   'no': 'London',\n",
       "   'fa': 'لندن',\n",
       "   'el': 'Λονδίνο',\n",
       "   'or': 'ଲଣ୍ଡନ',\n",
       "   'rm': 'Londra',\n",
       "   'he': 'לונדון',\n",
       "   'ff': 'London',\n",
       "   'de': 'London',\n",
       "   'yo': 'Lọndọnu',\n",
       "   'kk': 'Лондон',\n",
       "   'kl': 'London',\n",
       "   'bi': 'London',\n",
       "   'gu': 'લંડન',\n",
       "   'id': 'London',\n",
       "   'ab': 'Лондон',\n",
       "   'co': 'Londra',\n",
       "   'sn': 'London',\n",
       "   'vo': 'London',\n",
       "   'af': 'Londen',\n",
       "   'am': 'ለንደን',\n",
       "   'na': 'London',\n",
       "   'uz': 'London',\n",
       "   'ht': 'Lonn',\n",
       "   'km': 'ឡុងដ៍',\n",
       "   'mg': 'Lôndôna',\n",
       "   'qu': 'London',\n",
       "   'it': 'Londra',\n",
       "   'ln': 'Lóndɛlɛ',\n",
       "   'ne': 'लन्डन',\n",
       "   'mi': 'Rānana',\n",
       "   'mn': 'Лондон',\n",
       "   'cy': 'Llundain',\n",
       "   'wo': 'Londar',\n",
       "   'gn': 'Lóndyre',\n",
       "   'pt': 'Londres',\n",
       "   'fi': 'Lontoo',\n",
       "   'sw': 'London',\n",
       "   'jv': 'London',\n",
       "   'bm': 'London',\n",
       "   'bg': 'Лондон',\n",
       "   'sr': 'Лондон',\n",
       "   'cu': 'Лондонъ'},\n",
       "  'lat': 51.5073219,\n",
       "  'lon': -0.1276474,\n",
       "  'country': 'GB',\n",
       "  'state': 'England'}]"
      ]
     },
     "execution_count": 5,
     "metadata": {},
     "output_type": "execute_result"
    }
   ],
   "source": [
    "response = requests.get(url)\n",
    "\n",
    "# The response is a JSON object\n",
    "response.json()"
   ]
  },
  {
   "cell_type": "code",
   "execution_count": 6,
   "id": "682f2a8c-ae33-4718-b6e4-a2dbc09d5f92",
   "metadata": {},
   "outputs": [],
   "source": [
    "# Extract the latitude and longitude from the response\n",
    "lat = response.json()[0]['lat']\n",
    "lon = response.json()[0]['lon']"
   ]
  },
  {
   "cell_type": "code",
   "execution_count": 7,
   "id": "e73b592c-9729-4b98-9563-8c3812823d01",
   "metadata": {},
   "outputs": [],
   "source": [
    "# We can now use the latitude and longitude to get the weather data\n",
    "url = f\"https://api.openweathermap.org/data/2.5/weather?lat={lat}&lon={lon}&appid={API_key}\"\n",
    "response = requests.get(url)\n",
    "weather_data = response.json()"
   ]
  },
  {
   "cell_type": "code",
   "execution_count": 8,
   "id": "f4534f4c-cb0e-4aba-844c-c8944f3ca2e5",
   "metadata": {},
   "outputs": [
    {
     "data": {
      "text/plain": [
       "{'coord': {'lon': -0.1278, 'lat': 51.5074},\n",
       " 'weather': [{'id': 804,\n",
       "   'main': 'Clouds',\n",
       "   'description': 'overcast clouds',\n",
       "   'icon': '04d'}],\n",
       " 'base': 'stations',\n",
       " 'main': {'temp': 291.11,\n",
       "  'feels_like': 290.48,\n",
       "  'temp_min': 287.91,\n",
       "  'temp_max': 294.28,\n",
       "  'pressure': 1013,\n",
       "  'humidity': 58},\n",
       " 'visibility': 10000,\n",
       " 'wind': {'speed': 8.23, 'deg': 90},\n",
       " 'clouds': {'all': 100},\n",
       " 'dt': 1683204843,\n",
       " 'sys': {'type': 2,\n",
       "  'id': 268730,\n",
       "  'country': 'GB',\n",
       "  'sunrise': 1683174448,\n",
       "  'sunset': 1683228424},\n",
       " 'timezone': 3600,\n",
       " 'id': 2643743,\n",
       " 'name': 'London',\n",
       " 'cod': 200}"
      ]
     },
     "execution_count": 8,
     "metadata": {},
     "output_type": "execute_result"
    }
   ],
   "source": [
    "weather_data"
   ]
  },
  {
   "cell_type": "code",
   "execution_count": 9,
   "id": "32ae16af-a679-49da-87ae-2bee7f6d0155",
   "metadata": {},
   "outputs": [
    {
     "data": {
      "text/plain": [
       "291.11"
      ]
     },
     "execution_count": 9,
     "metadata": {},
     "output_type": "execute_result"
    }
   ],
   "source": [
    "# We can see that the temperature (in Kelvin) is stored in the \"main\" key\n",
    "weather_data[\"main\"][\"temp\"]"
   ]
  },
  {
   "cell_type": "code",
   "execution_count": 10,
   "id": "f1cb5b27-e3a1-4be3-a7e7-f9bdccdbe3b3",
   "metadata": {},
   "outputs": [
    {
     "data": {
      "text/plain": [
       "17.960000000000036"
      ]
     },
     "execution_count": 10,
     "metadata": {},
     "output_type": "execute_result"
    }
   ],
   "source": [
    "# Let us convert the temperature to Celsius\n",
    "kelvin_conversion = -273.15\n",
    "weather_data[\"main\"][\"temp\"] + kelvin_conversion"
   ]
  },
  {
   "cell_type": "code",
   "execution_count": 11,
   "id": "c95d4d38-45eb-49b1-83a3-c3127c23973a",
   "metadata": {},
   "outputs": [],
   "source": []
  },
  {
   "cell_type": "code",
   "execution_count": 12,
   "id": "cffe6837-4b55-4dfb-9706-5b81696e8655",
   "metadata": {},
   "outputs": [],
   "source": []
  },
  {
   "cell_type": "code",
   "execution_count": 13,
   "id": "5c83260c",
   "metadata": {},
   "outputs": [
    {
     "data": {
      "text/plain": [
       "17.97"
      ]
     },
     "execution_count": 13,
     "metadata": {},
     "output_type": "execute_result"
    }
   ],
   "source": []
  },
  {
   "cell_type": "code",
   "execution_count": 14,
   "id": "cc6e5669",
   "metadata": {},
   "outputs": [],
   "source": [
    "# Questions\n",
    "\n",
    "# How do you get the temperature in Celsius directly (using the API)?\n",
    "\n",
    "# How would you find the temperature in different cities and store them in a DataFrame?\n",
    "\n",
    "# What else can you find out about the weather in different cities e.g. try getting air quality data\n",
    "\n",
    "# What happens if you try to get historical weather data?\n",
    "\n",
    "# Some answers are at the bottom of the notebook"
   ]
  },
  {
   "cell_type": "code",
   "execution_count": null,
   "id": "3f0ace40",
   "metadata": {},
   "outputs": [],
   "source": []
  },
  {
   "cell_type": "code",
   "execution_count": null,
   "id": "36c0ec13",
   "metadata": {},
   "outputs": [],
   "source": []
  },
  {
   "cell_type": "code",
   "execution_count": null,
   "id": "cb81039f",
   "metadata": {},
   "outputs": [],
   "source": []
  },
  {
   "cell_type": "code",
   "execution_count": null,
   "id": "19056b9e",
   "metadata": {},
   "outputs": [],
   "source": []
  },
  {
   "cell_type": "code",
   "execution_count": null,
   "id": "9508f781",
   "metadata": {},
   "outputs": [],
   "source": []
  },
  {
   "cell_type": "code",
   "execution_count": null,
   "id": "15161288",
   "metadata": {},
   "outputs": [],
   "source": []
  },
  {
   "cell_type": "code",
   "execution_count": null,
   "id": "fddf5c7e",
   "metadata": {},
   "outputs": [],
   "source": []
  },
  {
   "cell_type": "code",
   "execution_count": null,
   "id": "60d87c08",
   "metadata": {},
   "outputs": [],
   "source": []
  },
  {
   "cell_type": "code",
   "execution_count": null,
   "id": "6442aa49",
   "metadata": {},
   "outputs": [],
   "source": []
  },
  {
   "attachments": {},
   "cell_type": "markdown",
   "id": "8c312ad8-4efa-4e24-9c7a-3dc239679b38",
   "metadata": {},
   "source": [
    "# Appendix: Answers to some of the questions"
   ]
  },
  {
   "cell_type": "code",
   "execution_count": null,
   "id": "7ac8663c",
   "metadata": {},
   "outputs": [],
   "source": [
    "# We change the units in the API call itself\n",
    "url = f\"https://api.openweathermap.org/data/2.5/weather?lat={lat}&lon={lon}&appid={API_key}&units=metric\"\n",
    "response = requests.get(url)\n",
    "weather_data2 = response.json()\n",
    "weather_data2[\"main\"][\"temp\"]"
   ]
  },
  {
   "cell_type": "code",
   "execution_count": 15,
   "id": "d66adab8-a800-45af-9558-4b4b4ba6b9bc",
   "metadata": {},
   "outputs": [
    {
     "data": {
      "text/plain": [
       "{'coord': {'lon': -0.1276, 'lat': 51.5073},\n",
       " 'list': [{'main': {'aqi': 2},\n",
       "   'components': {'co': 257.02,\n",
       "    'no': 2.12,\n",
       "    'no2': 17.48,\n",
       "    'o3': 91.55,\n",
       "    'so2': 10.73,\n",
       "    'pm2_5': 22.19,\n",
       "    'pm10': 25,\n",
       "    'nh3': 1.24},\n",
       "   'dt': 1683204699}]}"
      ]
     },
     "execution_count": 15,
     "metadata": {},
     "output_type": "execute_result"
    }
   ],
   "source": [
    "# https://openweathermap.org/api/air-pollution\n",
    "\n",
    "url = f\"http://api.openweathermap.org/data/2.5/air_pollution?lat={lat}&lon={lon}&appid={API_key}\"\n",
    "response = requests.get(url)\n",
    "response.json()"
   ]
  },
  {
   "cell_type": "code",
   "execution_count": 16,
   "id": "ad637abd-5645-4ffd-b0c0-5960c8e60ff3",
   "metadata": {},
   "outputs": [
    {
     "name": "stdout",
     "output_type": "stream",
     "text": [
      "https://api.openweathermap.org/data/3.0/onecall/timemachine?lat=39.099724&lon=-94.578331&dt=1643803200&appid=7cd4069785aa632a94dd1e2d9f013f8d\n"
     ]
    },
    {
     "data": {
      "text/plain": [
       "{'cod': 401,\n",
       " 'message': 'Please note that using One Call 3.0 requires a separate subscription to the One Call by Call plan. Learn more here https://openweathermap.org/price. If you have a valid subscription to the One Call by Call plan, but still receive this error, then please see https://openweathermap.org/faq#error401 for more info.'}"
      ]
     },
     "execution_count": 16,
     "metadata": {},
     "output_type": "execute_result"
    }
   ],
   "source": [
    "# What happens if you try to get historic data?\n",
    "\n",
    "url = f\"https://api.openweathermap.org/data/3.0/onecall/timemachine?lat=39.099724&lon=-94.578331&dt=1643803200&appid={API_key}\"\n",
    "print(url)\n",
    "response = requests.get(url)\n",
    "response.json()"
   ]
  },
  {
   "cell_type": "code",
   "execution_count": null,
   "id": "2e1967b1",
   "metadata": {},
   "outputs": [],
   "source": []
  }
 ],
 "metadata": {
  "kernelspec": {
   "display_name": "Python 3 (ipykernel)",
   "language": "python",
   "name": "python3"
  },
  "language_info": {
   "codemirror_mode": {
    "name": "ipython",
    "version": 3
   },
   "file_extension": ".py",
   "mimetype": "text/x-python",
   "name": "python",
   "nbconvert_exporter": "python",
   "pygments_lexer": "ipython3",
   "version": "3.10.10"
  }
 },
 "nbformat": 4,
 "nbformat_minor": 5
}
