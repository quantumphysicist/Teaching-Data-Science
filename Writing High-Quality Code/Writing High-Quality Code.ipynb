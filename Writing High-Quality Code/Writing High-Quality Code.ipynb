{
 "cells": [
  {
   "cell_type": "code",
   "execution_count": null,
   "metadata": {},
   "outputs": [],
   "source": [
    "# Author: Dr Renju Mathew\n",
    "# v1.1 2023/05/04\n",
    "\n",
    "# How to convert \"ugly code\" to \"beautiful code\". "
   ]
  },
  {
   "attachments": {},
   "cell_type": "markdown",
   "metadata": {},
   "source": [
    "Make life easier for yourself by adhering to the [PEP8 style guide](https://peps.python.org/pep-0008/). Find a summary [here](https://towardsdatascience.com/an-overview-of-the-pep-8-style-guide-5672459c7682).\n",
    "\n",
    "By using PEP8:\n",
    "- Our students learn good practice.\n",
    "- The code is easier to read and write.\n",
    "- The likelihood of errors due to badly formatted code is reduced.\n",
    "\n",
    "Adhering to PEP8 is relatively straightforward once [`AUTOPEP8`](https://jupyter-contrib-nbextensions.readthedocs.io/en/latest/nbextensions/code_prettify/README_autopep8.html) is installed. \n",
    "\n",
    "(Please note that you must install [`jupyter-contrib-nbextensions`](https://jupyter-contrib-nbextensions.readthedocs.io/en/latest/install.html) first.)"
   ]
  },
  {
   "attachments": {},
   "cell_type": "markdown",
   "metadata": {},
   "source": [
    "What follows is an example of how to convert \"ugly code\" to \"beautiful code\". Some, but not all, of this transformation can be done automatically for you by `AUTOPEP8`."
   ]
  },
  {
   "attachments": {},
   "cell_type": "markdown",
   "metadata": {},
   "source": [
    "Remember though—when all is said and done—that the best reason to learn the rules well is so that you can figure out how and why and when to creatively break the rules. But for that you are (wonderfully) on your own."
   ]
  },
  {
   "attachments": {},
   "cell_type": "markdown",
   "metadata": {},
   "source": [
    " \n",
    "<hr style=\"height:2px;border:none;color:#333;background-color:#333;\" />"
   ]
  },
  {
   "attachments": {},
   "cell_type": "markdown",
   "metadata": {},
   "source": [
    "## Ugly code"
   ]
  },
  {
   "attachments": {},
   "cell_type": "markdown",
   "metadata": {},
   "source": [
    "Please see the appendix for an explanation of why `int(n**0.5)+1` is used below."
   ]
  },
  {
   "cell_type": "code",
   "execution_count": 4,
   "metadata": {},
   "outputs": [
    {
     "name": "stdout",
     "output_type": "stream",
     "text": [
      "True\n"
     ]
    }
   ],
   "source": [
    "def prime(n):#check if n is a prime number\n",
    " if n<=1:return False\n",
    " for i in range(2,int(n**0.5)+1):\n",
    "  if n%i==0:return False\n",
    " return True\n",
    "print(prime(17)) #should print True"
   ]
  },
  {
   "attachments": {},
   "cell_type": "markdown",
   "metadata": {},
   "source": [
    "**What's wrong with it?**\n",
    "\n",
    "It violates several PEP 8 rules. \n",
    "\n",
    "It does not use:\n",
    "\n",
    "- Consistent indentation (uses 1 space instead of 4).\n",
    "- Spaces around operators and after commas.\n",
    "- Meaningful names for variables and functions.\n",
    "- A blank line to separate the function definition from the rest of the code.\n",
    "- A docstring to document the function."
   ]
  },
  {
   "attachments": {},
   "cell_type": "markdown",
   "metadata": {},
   "source": [
    "`AUTOPEP8` will get you to this:"
   ]
  },
  {
   "cell_type": "code",
   "execution_count": 5,
   "metadata": {},
   "outputs": [
    {
     "name": "stdout",
     "output_type": "stream",
     "text": [
      "True\n"
     ]
    }
   ],
   "source": [
    "def prime(n):  # check if n is a prime number\n",
    "    if n <= 1:\n",
    "        return False\n",
    "    for i in range(2, int(n**0.5)+1):\n",
    "        if n % i == 0:\n",
    "            return False\n",
    "    return True\n",
    "\n",
    "\n",
    "print(prime(17))  # should print True"
   ]
  },
  {
   "attachments": {},
   "cell_type": "markdown",
   "metadata": {},
   "source": [
    "It does now use:\n",
    "\n",
    "- Consistent indentation (uses 4 spaces instead of 1)\n",
    "- Spaces around operators and after commas\n",
    "- A blank line to separate the function definition from the rest of the code\n",
    "\n",
    "However, you still need to add\n",
    "\n",
    "- Meaningful names for variables and functions\n",
    "- A docstring to document the function"
   ]
  },
  {
   "attachments": {},
   "cell_type": "markdown",
   "metadata": {},
   "source": [
    "## Beautiful code"
   ]
  },
  {
   "cell_type": "code",
   "execution_count": 6,
   "metadata": {},
   "outputs": [
    {
     "name": "stdout",
     "output_type": "stream",
     "text": [
      "True\n"
     ]
    }
   ],
   "source": [
    "def is_prime(number):\n",
    "    \"\"\"Check if number is a prime number.\"\"\"\n",
    "    if number <= 1:\n",
    "        return False\n",
    "    for divisor in range(2, int(number ** 0.5) + 1):\n",
    "        if number % divisor == 0:\n",
    "            return False\n",
    "    return True\n",
    "\n",
    "\n",
    "print(is_prime(17))  # Should print True"
   ]
  },
  {
   "attachments": {},
   "cell_type": "markdown",
   "metadata": {},
   "source": [
    "Could we improve it further? \n",
    "\n",
    "Yes, we could make it more efficient. First, let's see how long it takes to run:"
   ]
  },
  {
   "cell_type": "code",
   "execution_count": 7,
   "metadata": {},
   "outputs": [],
   "source": [
    "# Generate a list of 1000 random numbers between 0 and 100000\n",
    "import random\n",
    "random_numbers = [random.randint(0, 100000) for _ in range(1000)]"
   ]
  },
  {
   "cell_type": "code",
   "execution_count": 8,
   "metadata": {},
   "outputs": [
    {
     "name": "stdout",
     "output_type": "stream",
     "text": [
      "1.18 ms ± 8.01 µs per loop (mean ± std. dev. of 7 runs, 1,000 loops each)\n"
     ]
    }
   ],
   "source": [
    "# Time how long it takes to check each number to see if it's prime\n",
    "is_prime_time_taken = %timeit -o [is_prime(n) for n in random_numbers]"
   ]
  },
  {
   "attachments": {},
   "cell_type": "markdown",
   "metadata": {},
   "source": [
    "To speed up our code, we can add an early return for the case when the number is divisible by 2, allowing us to skip the check for even numbers. "
   ]
  },
  {
   "cell_type": "code",
   "execution_count": 9,
   "metadata": {},
   "outputs": [
    {
     "name": "stdout",
     "output_type": "stream",
     "text": [
      "True\n"
     ]
    }
   ],
   "source": [
    "def is_prime(number):\n",
    "    \"\"\"Check if number is a prime number.\"\"\"\n",
    "    if number <= 1:\n",
    "        return False\n",
    "    if number == 2:\n",
    "        return True\n",
    "    if number % 2 == 0:\n",
    "        return False\n",
    "    for divisor in range(3, int(number ** 0.5) + 1, 2):\n",
    "        if number % divisor == 0:\n",
    "            return False\n",
    "    return True\n",
    "\n",
    "\n",
    "print(is_prime(17))  # Should print True"
   ]
  },
  {
   "cell_type": "code",
   "execution_count": 10,
   "metadata": {},
   "outputs": [
    {
     "name": "stdout",
     "output_type": "stream",
     "text": [
      "657 µs ± 4.95 µs per loop (mean ± std. dev. of 7 runs, 1,000 loops each)\n"
     ]
    }
   ],
   "source": [
    "# Time how long it takes to check each number to see if it's prime\n",
    "is_prime2_time_taken = %timeit -o [is_prime(n) for n in random_numbers]"
   ]
  },
  {
   "cell_type": "code",
   "execution_count": 11,
   "metadata": {},
   "outputs": [
    {
     "name": "stdout",
     "output_type": "stream",
     "text": [
      "This is 1.79 times faster.\n"
     ]
    }
   ],
   "source": [
    "print (f\"This is {is_prime_time_taken.average / is_prime2_time_taken.average:.2f} times faster.\")"
   ]
  },
  {
   "attachments": {},
   "cell_type": "markdown",
   "metadata": {},
   "source": [
    "# Appendix"
   ]
  },
  {
   "attachments": {},
   "cell_type": "markdown",
   "metadata": {},
   "source": [
    "Why `int(n**0.5)+1`?\n",
    "\n",
    "To check if ${n}$ is prime, we only need to test divisors up to $\\sqrt\n",
    "{n}$. \n",
    "\n",
    "Why? Because if $n$ has a divisor (factor) greater than its square root, the _corresponding_ factor would be less than the square root, and we would have already found it earlier in the loop.\n"
   ]
  },
  {
   "cell_type": "code",
   "execution_count": null,
   "metadata": {},
   "outputs": [],
   "source": []
  }
 ],
 "metadata": {
  "kernelspec": {
   "display_name": "Python 3 (ipykernel)",
   "language": "python",
   "name": "python3"
  },
  "language_info": {
   "codemirror_mode": {
    "name": "ipython",
    "version": 3
   },
   "file_extension": ".py",
   "mimetype": "text/x-python",
   "name": "python",
   "nbconvert_exporter": "python",
   "pygments_lexer": "ipython3",
   "version": "3.10.10"
  },
  "varInspector": {
   "cols": {
    "lenName": 16,
    "lenType": 16,
    "lenVar": 40
   },
   "kernels_config": {
    "python": {
     "delete_cmd_postfix": "",
     "delete_cmd_prefix": "del ",
     "library": "var_list.py",
     "varRefreshCmd": "print(var_dic_list())"
    },
    "r": {
     "delete_cmd_postfix": ") ",
     "delete_cmd_prefix": "rm(",
     "library": "var_list.r",
     "varRefreshCmd": "cat(var_dic_list()) "
    }
   },
   "types_to_exclude": [
    "module",
    "function",
    "builtin_function_or_method",
    "instance",
    "_Feature"
   ],
   "window_display": false
  }
 },
 "nbformat": 4,
 "nbformat_minor": 2
}
