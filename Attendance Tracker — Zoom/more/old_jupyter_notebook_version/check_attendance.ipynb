{
 "cells": [
  {
   "cell_type": "code",
   "execution_count": null,
   "metadata": {},
   "outputs": [],
   "source": [
    "'''\n",
    "Make sure you that when you export participants list from Zoom\n",
    "that you check both \"Export with meeting data\" and \"Show unique users\".\n",
    "\n",
    "See here:\n",
    "https://www.eduhk.hk/ocio/content/faq-how-retrieve-attendance-list-zoom-meeting\n",
    "'''"
   ]
  },
  {
   "cell_type": "code",
   "execution_count": null,
   "metadata": {},
   "outputs": [],
   "source": [
    "\"\"\"\n",
    "This script processes attendance data by comparing a list of expected participants against a list of actual participants.\n",
    "It loads two CSV files: one containing the expected participants with their official and informal names, and the other containing the actual participants.\n",
    "The script then replaces the informal names with the official names.\n",
    "Next, it determines who attended the event, who did not attend, and who is unknown.\n",
    "Finally, it creates a DataFrame with the attendance information, including the names of the attendees and their attendance status (Present, Absent, or Unknown).\n",
    "\"\"\""
   ]
  },
  {
   "cell_type": "code",
   "execution_count": null,
   "metadata": {},
   "outputs": [],
   "source": [
    "import pandas as pd\n",
    "\n",
    "# Load expected participants\n",
    "expected_participants = pd.read_csv('expected_participants.csv')\n",
    "expected_participants_list = set(expected_participants['Official Name'])\n",
    "expected_participants_dict = dict(zip(expected_participants['Name (Original Name)'], \n",
    "                                      expected_participants['Official Name']))\n",
    "\n",
    "# Load actual participants, skipping the first two rows\n",
    "df = pd.read_csv('participants_1234567890.csv', skiprows=2, header=1)[['Name (Original Name)']]\n",
    "\n",
    "# Replace the informal name with the official name or keep the informal name if not in the dictionary\n",
    "actual_participants_list = df['Name (Original Name)'].apply(lambda x: expected_participants_dict.get(x, x)).tolist()\n",
    "\n",
    "# Determine who attended, who did not attend, and who is unknown\n",
    "present = set(actual_participants_list).intersection(expected_participants_list)\n",
    "absent = set(expected_participants_list).difference(actual_participants_list)\n",
    "unknown = [name for name in actual_participants_list if name not in expected_participants_list]\n",
    "\n",
    "# Create a dataframe for attendance status\n",
    "attendance_df = (pd.concat([pd.DataFrame(present, columns=['Name']).assign(Status='Present'),\n",
    "                            pd.DataFrame(absent, columns=['Name']).assign(Status='Absent')])\n",
    "                 .sort_values('Name'))\n",
    "\n",
    "# Add unknown attendees to the dataframe\n",
    "unknown_df = pd.DataFrame(unknown, columns=['Name']).assign(Status='Present (Unrecognized Name)').reset_index(drop=True)\n",
    "attendance_df = pd.concat([attendance_df, unknown_df])\n",
    "attendance_df.to_csv('attendance.csv', index=False)\n",
    "attendance_df\n"
   ]
  },
  {
   "cell_type": "code",
   "execution_count": null,
   "metadata": {},
   "outputs": [],
   "source": []
  }
 ],
 "metadata": {
  "kernelspec": {
   "display_name": "data",
   "language": "python",
   "name": "python3"
  },
  "language_info": {
   "codemirror_mode": {
    "name": "ipython",
    "version": 3
   },
   "file_extension": ".py",
   "mimetype": "text/x-python",
   "name": "python",
   "nbconvert_exporter": "python",
   "pygments_lexer": "ipython3",
   "version": "3.10.10"
  },
  "orig_nbformat": 4
 },
 "nbformat": 4,
 "nbformat_minor": 2
}
