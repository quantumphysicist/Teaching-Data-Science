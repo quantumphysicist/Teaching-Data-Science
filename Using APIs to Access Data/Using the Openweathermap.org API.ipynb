{
 "cells": [
  {
   "cell_type": "code",
   "execution_count": null,
   "id": "2420abbb",
   "metadata": {},
   "outputs": [],
   "source": [
    "# Author Dr Renju Mathew\n",
    "# v1.2 2023-05-04\n",
    "\n",
    "# The following notebook is a demonstration of how to access the openweathermap.org API using Python."
   ]
  },
  {
   "attachments": {},
   "cell_type": "markdown",
   "id": "fa754914",
   "metadata": {},
   "source": [
    "# Checking current weather data using the OpenWeatherMap API"
   ]
  },
  {
   "cell_type": "code",
   "execution_count": null,
   "id": "63d1b559-c172-436e-baf6-453903113096",
   "metadata": {},
   "outputs": [],
   "source": [
    "import requests"
   ]
  },
  {
   "attachments": {},
   "cell_type": "markdown",
   "id": "ba10afd9-eddc-4a66-a4d1-50494aefa29d",
   "metadata": {},
   "source": [
    "Let's first check the documentation at:  \n",
    "[https://openweathermap.org/current](https://openweathermap.org/current)\n",
    "\n",
    "We learn that the \"API Call\" needs to be in the following form:  \n",
    "`https://api.openweathermap.org/data/2.5/weather?lat={lat}&lon={lon}&appid={API key}`"
   ]
  },
  {
   "attachments": {},
   "cell_type": "markdown",
   "id": "c798a794-cbf5-4218-a470-84605054cd8f",
   "metadata": {},
   "source": [
    "**But how do we determine the latitude and longitude of a city?**\n",
    "\n",
    "The same documentation tells us to use the [Geocoding API](https://openweathermap.org/api/geocoding-api)\n",
    "\n",
    "We learn that the API Call for the Geocoding API needs to be in the following form:  \n",
    "`http://api.openweathermap.org/geo/1.0/direct?q={city name},{state code},{country code}&limit={limit}&appid={API key}`\n",
    "\n",
    "Note that `API key` needs to be changed to `API_key` in the URL."
   ]
  },
  {
   "cell_type": "code",
   "execution_count": null,
   "id": "51b27582-00af-4445-82f4-1484e0ce4aa0",
   "metadata": {},
   "outputs": [],
   "source": [
    "# Get API key from file named \"API_key.txt\"\n",
    "with open('API_key.txt', 'r') as f:\n",
    "    API_key = f.read()\n",
    "\n",
    "# Alternative enter API key here:\n",
    "# API_key = \"\""
   ]
  },
  {
   "attachments": {},
   "cell_type": "markdown",
   "id": "a879ac2d",
   "metadata": {},
   "source": [
    "### Check London's Current Weather"
   ]
  },
  {
   "cell_type": "code",
   "execution_count": null,
   "id": "038b9812-5c04-44ba-84f0-cc59c3e89017",
   "metadata": {},
   "outputs": [],
   "source": [
    "limit = 1  # Number of results to return\n",
    "city_name = 'London'\n",
    "url = f\"http://api.openweathermap.org/geo/1.0/direct?q={city_name}&limit={limit}&appid={API_key}\"  \n",
    "# We can get away with not including the state code or country code"
   ]
  },
  {
   "cell_type": "code",
   "execution_count": null,
   "id": "1046c2a7",
   "metadata": {},
   "outputs": [],
   "source": [
    "print(url)"
   ]
  },
  {
   "cell_type": "code",
   "execution_count": null,
   "id": "46a918e5-8245-439b-a592-fb44ca160578",
   "metadata": {},
   "outputs": [],
   "source": [
    "response = requests.get(url)\n",
    "\n",
    "# The response is a JSON object\n",
    "response.json()"
   ]
  },
  {
   "cell_type": "code",
   "execution_count": null,
   "id": "682f2a8c-ae33-4718-b6e4-a2dbc09d5f92",
   "metadata": {},
   "outputs": [],
   "source": [
    "# Extract the latitude and longitude from the response\n",
    "lat = response.json()[0]['lat']\n",
    "lon = response.json()[0]['lon']"
   ]
  },
  {
   "cell_type": "code",
   "execution_count": null,
   "id": "e73b592c-9729-4b98-9563-8c3812823d01",
   "metadata": {},
   "outputs": [],
   "source": [
    "# We can now use the latitude and longitude to get the weather data\n",
    "url = f\"https://api.openweathermap.org/data/2.5/weather?lat={lat}&lon={lon}&appid={API_key}\"\n",
    "response = requests.get(url)\n",
    "weather_data = response.json()"
   ]
  },
  {
   "cell_type": "code",
   "execution_count": null,
   "id": "f4534f4c-cb0e-4aba-844c-c8944f3ca2e5",
   "metadata": {},
   "outputs": [],
   "source": [
    "weather_data"
   ]
  },
  {
   "cell_type": "code",
   "execution_count": null,
   "id": "32ae16af-a679-49da-87ae-2bee7f6d0155",
   "metadata": {},
   "outputs": [],
   "source": [
    "# We can see that the temperature (in Kelvin) is stored in the \"main\" key\n",
    "weather_data[\"main\"][\"temp\"]"
   ]
  },
  {
   "cell_type": "code",
   "execution_count": null,
   "id": "f1cb5b27-e3a1-4be3-a7e7-f9bdccdbe3b3",
   "metadata": {},
   "outputs": [],
   "source": [
    "# Let us convert the temperature to Celsius\n",
    "kelvin_conversion = -273.15\n",
    "weather_data[\"main\"][\"temp\"] + kelvin_conversion"
   ]
  },
  {
   "cell_type": "code",
   "execution_count": null,
   "id": "c95d4d38-45eb-49b1-83a3-c3127c23973a",
   "metadata": {},
   "outputs": [],
   "source": []
  },
  {
   "cell_type": "code",
   "execution_count": null,
   "id": "cffe6837-4b55-4dfb-9706-5b81696e8655",
   "metadata": {},
   "outputs": [],
   "source": []
  },
  {
   "cell_type": "code",
   "execution_count": null,
   "id": "5c83260c",
   "metadata": {},
   "outputs": [],
   "source": []
  },
  {
   "cell_type": "code",
   "execution_count": null,
   "id": "cc6e5669",
   "metadata": {},
   "outputs": [],
   "source": [
    "# Questions\n",
    "\n",
    "# How do you get the temperature in Celsius directly (using the API)?\n",
    "\n",
    "# How would you find the temperature in different cities and store them in a DataFrame?\n",
    "\n",
    "# What else can you find out about the weather in different cities e.g. try getting air quality data\n",
    "\n",
    "# What happens if you try to get historical weather data?\n",
    "\n",
    "# Some answers are at the bottom of the notebook"
   ]
  },
  {
   "cell_type": "code",
   "execution_count": null,
   "id": "3f0ace40",
   "metadata": {},
   "outputs": [],
   "source": []
  },
  {
   "cell_type": "code",
   "execution_count": null,
   "id": "36c0ec13",
   "metadata": {},
   "outputs": [],
   "source": []
  },
  {
   "cell_type": "code",
   "execution_count": null,
   "id": "cb81039f",
   "metadata": {},
   "outputs": [],
   "source": []
  },
  {
   "cell_type": "code",
   "execution_count": null,
   "id": "19056b9e",
   "metadata": {},
   "outputs": [],
   "source": []
  },
  {
   "cell_type": "code",
   "execution_count": null,
   "id": "9508f781",
   "metadata": {},
   "outputs": [],
   "source": []
  },
  {
   "cell_type": "code",
   "execution_count": null,
   "id": "15161288",
   "metadata": {},
   "outputs": [],
   "source": []
  },
  {
   "cell_type": "code",
   "execution_count": null,
   "id": "fddf5c7e",
   "metadata": {},
   "outputs": [],
   "source": []
  },
  {
   "cell_type": "code",
   "execution_count": null,
   "id": "60d87c08",
   "metadata": {},
   "outputs": [],
   "source": []
  },
  {
   "cell_type": "code",
   "execution_count": null,
   "id": "6442aa49",
   "metadata": {},
   "outputs": [],
   "source": []
  },
  {
   "attachments": {},
   "cell_type": "markdown",
   "id": "8c312ad8-4efa-4e24-9c7a-3dc239679b38",
   "metadata": {},
   "source": [
    "# Appendix: Answers to some of the questions"
   ]
  },
  {
   "cell_type": "code",
   "execution_count": null,
   "id": "7ac8663c",
   "metadata": {},
   "outputs": [],
   "source": [
    "# We change the units in the API call itself\n",
    "url = f\"https://api.openweathermap.org/data/2.5/weather?lat={lat}&lon={lon}&appid={API_key}&units=metric\"\n",
    "response = requests.get(url)\n",
    "weather_data2 = response.json()\n",
    "weather_data2[\"main\"][\"temp\"]"
   ]
  },
  {
   "cell_type": "code",
   "execution_count": null,
   "id": "d66adab8-a800-45af-9558-4b4b4ba6b9bc",
   "metadata": {},
   "outputs": [],
   "source": [
    "# https://openweathermap.org/api/air-pollution\n",
    "\n",
    "url = f\"http://api.openweathermap.org/data/2.5/air_pollution?lat={lat}&lon={lon}&appid={API_key}\"\n",
    "response = requests.get(url)\n",
    "response.json()"
   ]
  },
  {
   "cell_type": "code",
   "execution_count": null,
   "id": "ad637abd-5645-4ffd-b0c0-5960c8e60ff3",
   "metadata": {},
   "outputs": [],
   "source": [
    "# What happens if you try to get historic data?\n",
    "\n",
    "url = f\"https://api.openweathermap.org/data/3.0/onecall/timemachine?lat=39.099724&lon=-94.578331&dt=1643803200&appid={API_key}\"\n",
    "print(url)\n",
    "response = requests.get(url)\n",
    "response.json()"
   ]
  },
  {
   "cell_type": "code",
   "execution_count": null,
   "id": "2e1967b1",
   "metadata": {},
   "outputs": [],
   "source": []
  }
 ],
 "metadata": {
  "kernelspec": {
   "display_name": "Python 3 (ipykernel)",
   "language": "python",
   "name": "python3"
  },
  "language_info": {
   "codemirror_mode": {
    "name": "ipython",
    "version": 3
   },
   "file_extension": ".py",
   "mimetype": "text/x-python",
   "name": "python",
   "nbconvert_exporter": "python",
   "pygments_lexer": "ipython3",
   "version": "3.10.10"
  }
 },
 "nbformat": 4,
 "nbformat_minor": 5
}
